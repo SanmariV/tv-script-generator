{
 "cells": [
  {
   "cell_type": "markdown",
   "metadata": {
    "colab_type": "text",
    "id": "-BFUfvMu5VoQ"
   },
   "source": [
    "# Google Colab\n",
    "I ran out of workspace GPU hours during the Dog Classifier project, therefore I had to do everything in Google COlab."
   ]
  },
  {
   "cell_type": "markdown",
   "metadata": {
    "colab_type": "text",
    "id": "SOAPYVjKdh2z"
   },
   "source": [
    "# TV Script Generation\n",
    "\n",
    "In this project, you'll generate your own [Seinfeld](https://en.wikipedia.org/wiki/Seinfeld) TV scripts using RNNs.  You'll be using part of the [Seinfeld dataset](https://www.kaggle.com/thec03u5/seinfeld-chronicles#scripts.csv) of scripts from 9 seasons.  The Neural Network you'll build will generate a new ,\"fake\" TV script, based on patterns it recognizes in this training data.\n",
    "\n",
    "## Get the Data\n",
    "\n",
    "The data is already provided for you in `./data/Seinfeld_Scripts.txt` and you're encouraged to open that file and look at the text. \n",
    ">* As a first step, we'll load in this data and look at some samples. \n",
    "* Then, you'll be tasked with defining and training an RNN to generate a new script!"
   ]
  },
  {
   "cell_type": "code",
   "execution_count": 5,
   "metadata": {
    "colab": {
     "base_uri": "https://localhost:8080/",
     "height": 122
    },
    "colab_type": "code",
    "id": "CVOGwSuIdwtT",
    "outputId": "9cb6c2e2-85c2-47c5-e114-b0142b2f61e7"
   },
   "outputs": [
    {
     "name": "stdout",
     "output_type": "stream",
     "text": [
      "Go to this URL in a browser: https://accounts.google.com/o/oauth2/auth?client_id=947318989803-6bn6qk8qdgf4n4g3pfee6491hc0brc4i.apps.googleusercontent.com&redirect_uri=urn%3aietf%3awg%3aoauth%3a2.0%3aoob&response_type=code&scope=email%20https%3a%2f%2fwww.googleapis.com%2fauth%2fdocs.test%20https%3a%2f%2fwww.googleapis.com%2fauth%2fdrive%20https%3a%2f%2fwww.googleapis.com%2fauth%2fdrive.photos.readonly%20https%3a%2f%2fwww.googleapis.com%2fauth%2fpeopleapi.readonly\n",
      "\n",
      "Enter your authorization code:\n",
      "··········\n",
      "Mounted at /content/drive\n"
     ]
    }
   ],
   "source": [
    "from google.colab import drive\n",
    "drive.mount('/content/drive')"
   ]
  },
  {
   "cell_type": "code",
   "execution_count": 0,
   "metadata": {
    "colab": {},
    "colab_type": "code",
    "id": "Dl4FE1T6gjTF"
   },
   "outputs": [],
   "source": [
    "import os\n",
    "import pickle\n",
    "import torch\n",
    "\n",
    "\n",
    "SPECIAL_WORDS = {'PADDING': '<PAD>'}\n",
    "\n",
    "\n",
    "def load_data(path):\n",
    "    \"\"\"\n",
    "    Load Dataset from File\n",
    "    \"\"\"\n",
    "    input_file = os.path.join(path)\n",
    "    with open(input_file, \"r\") as f:\n",
    "        data = f.read()\n",
    "\n",
    "    return data\n",
    "\n",
    "\n",
    "def preprocess_and_save_data(dataset_path, token_lookup, create_lookup_tables):\n",
    "    \"\"\"\n",
    "    Preprocess Text Data\n",
    "    \"\"\"\n",
    "    text = load_data(dataset_path)\n",
    "    \n",
    "    # Ignore notice, since we don't use it for analysing the data\n",
    "    text = text[81:]\n",
    "\n",
    "    token_dict = token_lookup()\n",
    "    for key, token in token_dict.items():\n",
    "        text = text.replace(key, ' {} '.format(token))\n",
    "\n",
    "    text = text.lower()\n",
    "    text = text.split()\n",
    "\n",
    "    vocab_to_int, int_to_vocab = create_lookup_tables(text + list(SPECIAL_WORDS.values()))\n",
    "    int_text = [vocab_to_int[word] for word in text]\n",
    "    pickle.dump((int_text, vocab_to_int, int_to_vocab, token_dict), open('preprocess.p', 'wb'))\n",
    "\n",
    "\n",
    "def load_preprocess():\n",
    "    \"\"\"\n",
    "    Load the Preprocessed Training data and return them in batches of <batch_size> or less\n",
    "    \"\"\"\n",
    "    return pickle.load(open('preprocess.p', mode='rb'))\n",
    "\n",
    "\n",
    "def save_model(filename, decoder):\n",
    "    save_filename = os.path.splitext(os.path.basename(filename))[0] + '.pt'\n",
    "    torch.save(decoder, save_filename)\n",
    "\n",
    "\n",
    "def load_model(filename):\n",
    "    save_filename = os.path.splitext(os.path.basename(filename))[0] + '.pt'\n",
    "    return torch.load(save_filename)\n"
   ]
  },
  {
   "cell_type": "code",
   "execution_count": 0,
   "metadata": {
    "colab": {},
    "colab_type": "code",
    "id": "2S6bQzqsdh20"
   },
   "outputs": [],
   "source": [
    "\"\"\"\n",
    "DON'T MODIFY ANYTHING IN THIS CELL\n",
    "\"\"\"\n",
    "# load in data\n",
    "import helper\n",
    "data_dir = '/content/drive/My Drive/TV Script generator/Seinfeld_Scripts.txt'\n",
    "text = load_data(data_dir)"
   ]
  },
  {
   "cell_type": "markdown",
   "metadata": {
    "colab_type": "text",
    "id": "DLu42SJfdh25"
   },
   "source": [
    "## Explore the Data\n",
    "Play around with `view_line_range` to view different parts of the data. This will give you a sense of the data you'll be working with. You can see, for example, that it is all lowercase text, and each new line of dialogue is separated by a newline character `\\n`."
   ]
  },
  {
   "cell_type": "code",
   "execution_count": 8,
   "metadata": {
    "colab": {
     "base_uri": "https://localhost:8080/",
     "height": 309
    },
    "colab_type": "code",
    "id": "BmUgUY9idh28",
    "outputId": "13bf2aa5-65ad-4890-fac6-17c6f86ab64a"
   },
   "outputs": [
    {
     "name": "stdout",
     "output_type": "stream",
     "text": [
      "Dataset Stats\n",
      "Roughly the number of unique words: 46367\n",
      "Number of lines: 109233\n",
      "Average number of words in each line: 5.544240293684143\n",
      "\n",
      "The lines 0 to 10:\n",
      "jerry: do you know what this is all about? do you know, why were here? to be out, this is out...and out is one of the single most enjoyable experiences of life. people...did you ever hear people talking about we should go out? this is what theyre talking about...this whole thing, were all out now, no one is home. not one person here is home, were all out! there are people trying to find us, they dont know where we are. (on an imaginary phone) did you ring?, i cant find him. where did he go? he didnt tell me where he was going. he must have gone out. you wanna go out you get ready, you pick out the clothes, right? you take the shower, you get all ready, get the cash, get your friends, the car, the spot, the reservation...then youre standing around, what do you do? you go we gotta be getting back. once youre out, you wanna get back! you wanna go to sleep, you wanna get up, you wanna go out again tomorrow, right? where ever you are in life, its my feeling, youve gotta go. \n",
      "\n",
      "jerry: (pointing at georges shirt) see, to me, that button is in the worst possible spot. the second button literally makes or breaks the shirt, look at it. its too high! its in no-mans-land. you look like you live with your mother. \n",
      "\n",
      "george: are you through? \n",
      "\n",
      "jerry: you do of course try on, when you buy? \n",
      "\n",
      "george: yes, it was purple, i liked it, i dont actually recall considering the buttons. \n",
      "\n"
     ]
    }
   ],
   "source": [
    "view_line_range = (0, 10)\n",
    "\n",
    "\"\"\"\n",
    "DON'T MODIFY ANYTHING IN THIS CELL THAT IS BELOW THIS LINE\n",
    "\"\"\"\n",
    "import numpy as np\n",
    "\n",
    "print('Dataset Stats')\n",
    "print('Roughly the number of unique words: {}'.format(len({word: None for word in text.split()})))\n",
    "\n",
    "lines = text.split('\\n')\n",
    "print('Number of lines: {}'.format(len(lines)))\n",
    "word_count_line = [len(line.split()) for line in lines]\n",
    "print('Average number of words in each line: {}'.format(np.average(word_count_line)))\n",
    "\n",
    "print()\n",
    "print('The lines {} to {}:'.format(*view_line_range))\n",
    "print('\\n'.join(text.split('\\n')[view_line_range[0]:view_line_range[1]]))"
   ]
  },
  {
   "cell_type": "code",
   "execution_count": 0,
   "metadata": {
    "colab": {},
    "colab_type": "code",
    "id": "Y9z8HKIvwhQv"
   },
   "outputs": [],
   "source": [
    "from unittest.mock import MagicMock, patch\n",
    "import numpy as np\n",
    "import torch\n",
    "\n",
    "\n",
    "class _TestNN(torch.nn.Module):\n",
    "    def __init__(self, input_size, output_size):\n",
    "        super(_TestNN, self).__init__()\n",
    "        self.decoder = torch.nn.Linear(input_size, output_size)\n",
    "        self.forward_called = False\n",
    "    \n",
    "    def forward(self, nn_input, hidden):\n",
    "        self.forward_called = True\n",
    "        output = self.decoder(nn_input)\n",
    "        \n",
    "        return output, hidden\n",
    "\n",
    "\n",
    "def _print_success_message():\n",
    "    print('Tests Passed')\n",
    "\n",
    "\n",
    "class AssertTest(object):\n",
    "    def __init__(self, params):\n",
    "        self.assert_param_message = '\\n'.join([str(k) + ': ' + str(v) + '' for k, v in params.items()])\n",
    "    \n",
    "    def test(self, assert_condition, assert_message):\n",
    "        assert assert_condition, assert_message + '\\n\\nUnit Test Function Parameters\\n' + self.assert_param_message\n",
    "\n",
    "\n",
    "def test_create_lookup_tables(create_lookup_tables):\n",
    "    test_text = '''\n",
    "        Moe_Szyslak Moe's Tavern Where the elite meet to drink\n",
    "        Bart_Simpson Eh yeah hello is Mike there Last name Rotch\n",
    "        Moe_Szyslak Hold on I'll check Mike Rotch Mike Rotch Hey has anybody seen Mike Rotch lately\n",
    "        Moe_Szyslak Listen you little puke One of these days I'm gonna catch you and I'm gonna carve my name on your back with an ice pick\n",
    "        Moe_Szyslak Whats the matter Homer You're not your normal effervescent self\n",
    "        Homer_Simpson I got my problems Moe Give me another one\n",
    "        Moe_Szyslak Homer hey you should not drink to forget your problems\n",
    "        Barney_Gumble Yeah you should only drink to enhance your social skills'''\n",
    "    \n",
    "    test_text = test_text.lower()\n",
    "    test_text = test_text.split()\n",
    "    \n",
    "    vocab_to_int, int_to_vocab = create_lookup_tables(test_text)\n",
    "    \n",
    "    # Check types\n",
    "    assert isinstance(vocab_to_int, dict),\\\n",
    "        'vocab_to_int is not a dictionary.'\n",
    "    assert isinstance(int_to_vocab, dict),\\\n",
    "        'int_to_vocab is not a dictionary.'\n",
    "    \n",
    "    # Compare lengths of dicts\n",
    "    assert len(vocab_to_int) == len(int_to_vocab),\\\n",
    "        'Length of vocab_to_int and int_to_vocab don\\'t match. ' \\\n",
    "        'vocab_to_int is length {}. int_to_vocab is length {}'.format(len(vocab_to_int), len(int_to_vocab))\n",
    "\n",
    "    # Make sure the dicts have the same words\n",
    "    vocab_to_int_word_set = set(vocab_to_int.keys())\n",
    "    int_to_vocab_word_set = set(int_to_vocab.values())\n",
    "\n",
    "    assert not (vocab_to_int_word_set - int_to_vocab_word_set),\\\n",
    "    'vocab_to_int and int_to_vocab don\\'t have the same words.' \\\n",
    "        '{} found in vocab_to_int, but not in int_to_vocab'.format(vocab_to_int_word_set - int_to_vocab_word_set)\n",
    "    assert not (int_to_vocab_word_set - vocab_to_int_word_set),\\\n",
    "        'vocab_to_int and int_to_vocab don\\'t have the same words.' \\\n",
    "        '{} found in int_to_vocab, but not in vocab_to_int'.format(int_to_vocab_word_set - vocab_to_int_word_set)\n",
    "    \n",
    "    # Make sure the dicts have the same word ids\n",
    "    vocab_to_int_word_id_set = set(vocab_to_int.values())\n",
    "    int_to_vocab_word_id_set = set(int_to_vocab.keys())\n",
    "    \n",
    "    assert not (vocab_to_int_word_id_set - int_to_vocab_word_id_set),\\\n",
    "        'vocab_to_int and int_to_vocab don\\'t contain the same word ids.' \\\n",
    "        '{} found in vocab_to_int, but not in int_to_vocab'.format(vocab_to_int_word_id_set - int_to_vocab_word_id_set)\n",
    "    assert not (int_to_vocab_word_id_set - vocab_to_int_word_id_set),\\\n",
    "        'vocab_to_int and int_to_vocab don\\'t contain the same word ids.' \\\n",
    "        '{} found in int_to_vocab, but not in vocab_to_int'.format(int_to_vocab_word_id_set - vocab_to_int_word_id_set)\n",
    "    \n",
    "    # Make sure the dicts make the same lookup\n",
    "    missmatches = [(word, id, id, int_to_vocab[id]) for word, id in vocab_to_int.items() if int_to_vocab[id] != word]\n",
    "    \n",
    "    assert not missmatches,\\\n",
    "        'Found {} missmatche(s). First missmatch: vocab_to_int[{}] = {} and int_to_vocab[{}] = {}'.format(len(missmatches),\n",
    "                                                                                                          *missmatches[0])\n",
    "    \n",
    "    assert len(vocab_to_int) > len(set(test_text))/2,\\\n",
    "        'The length of vocab seems too small.  Found a length of {}'.format(len(vocab_to_int))\n",
    "    \n",
    "    _print_success_message()\n",
    "\n",
    "\n",
    "def test_tokenize(token_lookup):\n",
    "    symbols = set(['.', ',', '\"', ';', '!', '?', '(', ')', '-', '\\n'])\n",
    "    token_dict = token_lookup()\n",
    "    \n",
    "    # Check type\n",
    "    assert isinstance(token_dict, dict), \\\n",
    "        'Returned type is {}.'.format(type(token_dict))\n",
    "\n",
    "    # Check symbols\n",
    "    missing_symbols = symbols - set(token_dict.keys())\n",
    "    unknown_symbols = set(token_dict.keys()) - symbols\n",
    "\n",
    "    assert not missing_symbols, \\\n",
    "    'Missing symbols: {}'.format(missing_symbols)\n",
    "    assert not unknown_symbols, \\\n",
    "        'Unknown symbols: {}'.format(unknown_symbols)\n",
    "\n",
    "    # Check values type\n",
    "    bad_value_type = [type(val) for val in token_dict.values() if not isinstance(val, str)]\n",
    "    \n",
    "    assert not bad_value_type,\\\n",
    "        'Found token as {} type.'.format(bad_value_type[0])\n",
    "\n",
    "    # Check for spaces\n",
    "    key_has_spaces = [k for k in token_dict.keys() if ' ' in k]\n",
    "    val_has_spaces = [val for val in token_dict.values() if ' ' in val]\n",
    "    \n",
    "    assert not key_has_spaces,\\\n",
    "        'The key \"{}\" includes spaces. Remove spaces from keys and values'.format(key_has_spaces[0])\n",
    "    assert not val_has_spaces,\\\n",
    "    'The value \"{}\" includes spaces. Remove spaces from keys and values'.format(val_has_spaces[0])\n",
    "    \n",
    "    # Check for symbols in values\n",
    "    symbol_val = ()\n",
    "    for symbol in symbols:\n",
    "        for val in token_dict.values():\n",
    "            if symbol in val:\n",
    "                symbol_val = (symbol, val)\n",
    "\n",
    "    assert not symbol_val,\\\n",
    "    'Don\\'t use a symbol that will be replaced in your tokens. Found the symbol {} in value {}'.format(*symbol_val)\n",
    "    \n",
    "    _print_success_message()\n",
    "\n",
    "\n",
    "def test_rnn(RNN, train_on_gpu):\n",
    "    batch_size = 50\n",
    "    sequence_length = 3\n",
    "    vocab_size = 20\n",
    "    output_size=20\n",
    "    embedding_dim=15\n",
    "    hidden_dim = 10\n",
    "    n_layers = 2\n",
    "    \n",
    "    # create test RNN\n",
    "    # params: (vocab_size, output_size, embedding_dim, hidden_dim, n_layers)\n",
    "    rnn = RNN(vocab_size, output_size, embedding_dim, hidden_dim, n_layers)\n",
    "    \n",
    "    # create test input\n",
    "    a = np.random.randint(vocab_size, size=(batch_size, sequence_length))\n",
    "    #b = torch.LongTensor(a)\n",
    "    b = torch.from_numpy(a)\n",
    "    hidden = rnn.init_hidden(batch_size)\n",
    "    \n",
    "    \n",
    "    if(train_on_gpu):\n",
    "        rnn.cuda()\n",
    "        b = b.cuda()\n",
    "    \n",
    "    output, hidden_out = rnn(b, hidden)\n",
    "    \n",
    "    assert_test = AssertTest({\n",
    "                             'Input Size': vocab_size,\n",
    "                             'Output Size': output_size,\n",
    "                             'Hidden Dim': hidden_dim,\n",
    "                             'N Layers': n_layers,\n",
    "                             'Batch Size': batch_size,\n",
    "                             'Sequence Length': sequence_length,\n",
    "                             'Input': b})\n",
    "    \n",
    "    # initialization\n",
    "    correct_hidden_size = (n_layers, batch_size, hidden_dim)\n",
    "    assert_condition = hidden[0].size() == correct_hidden_size\n",
    "    assert_message = 'Wrong hidden state size. Expected type {}. Got type {}'.format(correct_hidden_size, hidden[0].size())\n",
    "    assert_test.test(assert_condition, assert_message)\n",
    "    \n",
    "    # output of rnn\n",
    "    correct_hidden_size = (n_layers, batch_size, hidden_dim)\n",
    "    assert_condition = hidden_out[0].size() == correct_hidden_size\n",
    "    assert_message = 'Wrong hidden state size. Expected type {}. Got type {}'.format(correct_hidden_size, hidden_out[0].size())\n",
    "    assert_test.test(assert_condition, assert_message)\n",
    "    \n",
    "    correct_output_size = (batch_size, output_size)\n",
    "    assert_condition = output.size() == correct_output_size\n",
    "    assert_message = 'Wrong output size. Expected type {}. Got type {}'.format(correct_output_size, output.size())\n",
    "    assert_test.test(assert_condition, assert_message)\n",
    "    \n",
    "    _print_success_message()\n",
    "\n",
    "\n",
    "def test_forward_back_prop(RNN, forward_back_prop, train_on_gpu):\n",
    "    batch_size = 200\n",
    "    input_size = 20\n",
    "    output_size = 10\n",
    "    sequence_length = 3\n",
    "    embedding_dim=15\n",
    "    hidden_dim = 10\n",
    "    n_layers = 2\n",
    "    learning_rate = 0.01\n",
    "    \n",
    "    # create test RNN\n",
    "    rnn = RNN(input_size, output_size, embedding_dim, hidden_dim, n_layers)\n",
    "    \n",
    "    mock_decoder = MagicMock(wraps=_TestNN(input_size, output_size))\n",
    "    if train_on_gpu:\n",
    "        mock_decoder.cuda()\n",
    "    \n",
    "    mock_decoder_optimizer = MagicMock(wraps=torch.optim.Adam(mock_decoder.parameters(), lr=learning_rate))\n",
    "    mock_criterion = MagicMock(wraps=torch.nn.CrossEntropyLoss())\n",
    "    \n",
    "    with patch.object(torch.autograd, 'backward', wraps=torch.autograd.backward) as mock_autograd_backward:\n",
    "        inp = torch.FloatTensor(np.random.rand(batch_size, input_size))\n",
    "        target = torch.LongTensor(np.random.randint(output_size, size=batch_size))\n",
    "        \n",
    "        hidden = rnn.init_hidden(batch_size)\n",
    "        \n",
    "        loss, hidden_out = forward_back_prop(mock_decoder, mock_decoder_optimizer, mock_criterion, inp, target, hidden)\n",
    "    \n",
    "    assert (hidden_out[0][0]==hidden[0][0]).sum()==batch_size*hidden_dim, 'Returned hidden state is the incorrect size.'\n",
    "    \n",
    "    assert mock_decoder.zero_grad.called or mock_decoder_optimizer.zero_grad.called, 'Didn\\'t set the gradients to 0.'\n",
    "    assert mock_decoder.forward_called, 'Forward propagation not called.'\n",
    "    assert mock_autograd_backward.called, 'Backward propagation not called'\n",
    "    assert mock_decoder_optimizer.step.called, 'Optimization step not performed'\n",
    "    assert type(loss) == float, 'Wrong return type. Expected {}, got {}'.format(float, type(loss))\n",
    "    \n",
    "    _print_success_message()\n"
   ]
  },
  {
   "cell_type": "markdown",
   "metadata": {
    "colab_type": "text",
    "id": "UXVEa8yYdh2_"
   },
   "source": [
    "---\n",
    "## Implement Pre-processing Functions\n",
    "The first thing to do to any dataset is pre-processing.  Implement the following pre-processing functions below:\n",
    "- Lookup Table\n",
    "- Tokenize Punctuation\n",
    "\n",
    "### Lookup Table\n",
    "To create a word embedding, you first need to transform the words to ids.  In this function, create two dictionaries:\n",
    "- Dictionary to go from the words to an id, we'll call `vocab_to_int`\n",
    "- Dictionary to go from the id to word, we'll call `int_to_vocab`\n",
    "\n",
    "Return these dictionaries in the following **tuple** `(vocab_to_int, int_to_vocab)`"
   ]
  },
  {
   "cell_type": "code",
   "execution_count": 83,
   "metadata": {
    "colab": {
     "base_uri": "https://localhost:8080/",
     "height": 34
    },
    "colab_type": "code",
    "id": "U0ebdm0Bdh2_",
    "outputId": "b42b543b-be10-4ec1-9b64-c854309cadd5"
   },
   "outputs": [
    {
     "name": "stdout",
     "output_type": "stream",
     "text": [
      "Tests Passed\n"
     ]
    }
   ],
   "source": [
    "#import problem_unittests as tests\n",
    "from collections import Counter\n",
    "\n",
    "def create_lookup_tables(text):\n",
    "    \"\"\"\n",
    "    Create lookup tables for vocabulary\n",
    "    :param text: The text of tv scripts split into words\n",
    "    :return: A tuple of dicts (vocab_to_int, int_to_vocab)\n",
    "    \"\"\"\n",
    "    # TODO: Implement Function\n",
    "    counts = Counter(text)\n",
    "    vocab = sorted(counts, key=counts.get,reverse=True)\n",
    "\n",
    "    ## Build a dictionaries that maps integers to words, words to integers\n",
    "    int_to_vocab = {ii: word for ii, word in enumerate(vocab)}\n",
    "    vocab_to_int = {word: ii for ii, word in int_to_vocab.items()}\n",
    "\n",
    "    # return tuple\n",
    "    return (vocab_to_int, int_to_vocab)\n",
    "\n",
    "\"\"\"\n",
    "DON'T MODIFY ANYTHING IN THIS CELL THAT IS BELOW THIS LINE\n",
    "\"\"\"\n",
    "#tests.test_create_lookup_tables(create_lookup_tables)\n",
    "test_create_lookup_tables(create_lookup_tables)"
   ]
  },
  {
   "cell_type": "markdown",
   "metadata": {
    "colab_type": "text",
    "id": "OxLKBt1Wdh3C"
   },
   "source": [
    "### Tokenize Punctuation\n",
    "We'll be splitting the script into a word array using spaces as delimiters.  However, punctuations like periods and exclamation marks can create multiple ids for the same word. For example, \"bye\" and \"bye!\" would generate two different word ids.\n",
    "\n",
    "Implement the function `token_lookup` to return a dict that will be used to tokenize symbols like \"!\" into \"||Exclamation_Mark||\".  Create a dictionary for the following symbols where the symbol is the key and value is the token:\n",
    "- Period ( **.** )\n",
    "- Comma ( **,** )\n",
    "- Quotation Mark ( **\"** )\n",
    "- Semicolon ( **;** )\n",
    "- Exclamation mark ( **!** )\n",
    "- Question mark ( **?** )\n",
    "- Left Parentheses ( **(** )\n",
    "- Right Parentheses ( **)** )\n",
    "- Dash ( **-** )\n",
    "- Return ( **\\n** )\n",
    "\n",
    "This dictionary will be used to tokenize the symbols and add the delimiter (space) around it.  This separates each symbols as its own word, making it easier for the neural network to predict the next word. Make sure you don't use a value that could be confused as a word; for example, instead of using the value \"dash\", try using something like \"||dash||\"."
   ]
  },
  {
   "cell_type": "code",
   "execution_count": 11,
   "metadata": {
    "colab": {
     "base_uri": "https://localhost:8080/",
     "height": 34
    },
    "colab_type": "code",
    "id": "BXvsyRAzdh3D",
    "outputId": "f63a9740-f1db-41eb-a2b5-973fec382f88"
   },
   "outputs": [
    {
     "name": "stdout",
     "output_type": "stream",
     "text": [
      "Tests Passed\n"
     ]
    }
   ],
   "source": [
    "from string import punctuation\n",
    "\n",
    "def token_lookup():\n",
    "    \"\"\"\n",
    "    Generate a dict to turn punctuation into a token.\n",
    "    :return: Tokenized dictionary where the key is the punctuation and the value is the token\n",
    "    \"\"\"\n",
    "    token_lookup = {'.' : '||PERIOD||',\n",
    "                   ',' : '||COMMA||',\n",
    "                   '\"' : '||QUOTATION_MARK||',\n",
    "                   ';' : '||SEMICOLON||',\n",
    "                   '!' : '||EXCLAMATION_MARK||',\n",
    "                   '?' : '||QUESTION_MARK||',\n",
    "                   '(' : '||LEFT_PAREN||',\n",
    "                   ')' : '||RIGHT_PAREN||',\n",
    "                   '-' : '||DASH||',\n",
    "                   '\\n': '||RETURN||'\n",
    "                   }\n",
    "    \n",
    "    return token_lookup\n",
    "\n",
    "\"\"\"\n",
    "DON'T MODIFY ANYTHING IN THIS CELL THAT IS BELOW THIS LINE\n",
    "\"\"\"\n",
    "test_tokenize(token_lookup)"
   ]
  },
  {
   "cell_type": "markdown",
   "metadata": {
    "colab_type": "text",
    "id": "g6c307SSdh3G"
   },
   "source": [
    "## Pre-process all the data and save it\n",
    "\n",
    "Running the code cell below will pre-process all the data and save it to file. You're encouraged to look at the code for `preprocess_and_save_data` in the `helpers.py` file to see what it's doing in detail, but you do not need to change this code."
   ]
  },
  {
   "cell_type": "code",
   "execution_count": 0,
   "metadata": {
    "colab": {},
    "colab_type": "code",
    "id": "4J_dCcaldh3H"
   },
   "outputs": [],
   "source": [
    "\"\"\"\n",
    "DON'T MODIFY ANYTHING IN THIS CELL\n",
    "\"\"\"\n",
    "# pre-process training data\n",
    "preprocess_and_save_data(data_dir, token_lookup, create_lookup_tables)"
   ]
  },
  {
   "cell_type": "markdown",
   "metadata": {
    "colab_type": "text",
    "id": "F0En_B_pdh3K"
   },
   "source": [
    "# Check Point\n",
    "This is your first checkpoint. If you ever decide to come back to this notebook or have to restart the notebook, you can start from here. The preprocessed data has been saved to disk."
   ]
  },
  {
   "cell_type": "code",
   "execution_count": 0,
   "metadata": {
    "colab": {},
    "colab_type": "code",
    "id": "R8CdeI5idh3K"
   },
   "outputs": [],
   "source": [
    "\"\"\"\n",
    "DON'T MODIFY ANYTHING IN THIS CELL\n",
    "\"\"\"\n",
    "#import helper\n",
    "#import problem_unittests as tests\n",
    "\n",
    "int_text, vocab_to_int, int_to_vocab, token_dict = load_preprocess()"
   ]
  },
  {
   "cell_type": "code",
   "execution_count": 14,
   "metadata": {
    "colab": {
     "base_uri": "https://localhost:8080/",
     "height": 105
    },
    "colab_type": "code",
    "id": "iHuaj3UfA-FS",
    "outputId": "12a400fc-1315-422d-9816-f94ad652ca2d"
   },
   "outputs": [
    {
     "name": "stdout",
     "output_type": "stream",
     "text": [
      "{'.': '||PERIOD||', ',': '||COMMA||', '\"': '||QUOTATION_MARK||', ';': '||SEMICOLON||', '!': '||EXCLAMATION_MARK||', '?': '||QUESTION_MARK||', '(': '||LEFT_PAREN||', ')': '||RIGHT_PAREN||', '-': '||DASH||', '\\n': '||RETURN||'}\n",
      "[24, 22, 47, 1, 1]\n",
      "21388\n",
      "892110\n"
     ]
    }
   ],
   "source": [
    "print(token_dict)\n",
    "print(int_text[:5])\n",
    "print(len(vocab_to_int))\n",
    "print(len(int_text))"
   ]
  },
  {
   "cell_type": "markdown",
   "metadata": {
    "colab_type": "text",
    "id": "Wj5yZWAwdh3O"
   },
   "source": [
    "## Build the Neural Network\n",
    "In this section, you'll build the components necessary to build an RNN by implementing the RNN Module and forward and backpropagation functions.\n",
    "\n",
    "### Check Access to GPU"
   ]
  },
  {
   "cell_type": "code",
   "execution_count": 0,
   "metadata": {
    "colab": {},
    "colab_type": "code",
    "id": "gfRjGkZxdh3O"
   },
   "outputs": [],
   "source": [
    "\"\"\"\n",
    "DON'T MODIFY ANYTHING IN THIS CELL\n",
    "\"\"\"\n",
    "import torch\n",
    "\n",
    "# Check for a GPU\n",
    "train_on_gpu = torch.cuda.is_available()\n",
    "if not train_on_gpu:\n",
    "    print('No GPU found. Please use a GPU to train your neural network.')"
   ]
  },
  {
   "cell_type": "markdown",
   "metadata": {
    "colab_type": "text",
    "id": "gKFuTxb3dh3R"
   },
   "source": [
    "## Input\n",
    "Let's start with the preprocessed input data. We'll use [TensorDataset](http://pytorch.org/docs/master/data.html#torch.utils.data.TensorDataset) to provide a known format to our dataset; in combination with [DataLoader](http://pytorch.org/docs/master/data.html#torch.utils.data.DataLoader), it will handle batching, shuffling, and other dataset iteration functions.\n",
    "\n",
    "You can create data with TensorDataset by passing in feature and target tensors. Then create a DataLoader as usual.\n",
    "```\n",
    "data = TensorDataset(feature_tensors, target_tensors)\n",
    "data_loader = torch.utils.data.DataLoader(data, \n",
    "                                          batch_size=batch_size)\n",
    "```\n",
    "\n",
    "### Batching\n",
    "Implement the `batch_data` function to batch `words` data into chunks of size `batch_size` using the `TensorDataset` and `DataLoader` classes.\n",
    "\n",
    ">You can batch words using the DataLoader, but it will be up to you to create `feature_tensors` and `target_tensors` of the correct size and content for a given `sequence_length`.\n",
    "\n",
    "For example, say we have these as input:\n",
    "```\n",
    "words = [1, 2, 3, 4, 5, 6, 7]\n",
    "sequence_length = 4\n",
    "```\n",
    "\n",
    "Your first `feature_tensor` should contain the values:\n",
    "```\n",
    "[1, 2, 3, 4]\n",
    "```\n",
    "And the corresponding `target_tensor` should just be the next \"word\"/tokenized word value:\n",
    "```\n",
    "5\n",
    "```\n",
    "This should continue with the second `feature_tensor`, `target_tensor` being:\n",
    "```\n",
    "[2, 3, 4, 5]  # features\n",
    "6             # target\n",
    "```"
   ]
  },
  {
   "cell_type": "code",
   "execution_count": 0,
   "metadata": {
    "colab": {
     "base_uri": "https://localhost:8080/",
     "height": 68
    },
    "colab_type": "code",
    "id": "Mv5nOxAjJclX",
    "outputId": "7183ce4f-820b-4414-ec1f-e698a499db3e"
   },
   "outputs": [
    {
     "name": "stdout",
     "output_type": "stream",
     "text": [
      "<class 'list'>\n",
      "[24, 22, 47, 1, 1, 1, 17, 47, 22, 82]\n",
      "892110\n"
     ]
    }
   ],
   "source": [
    "print(type(int_text))\n",
    "print(int_text[:10])\n",
    "print(len(int_text))"
   ]
  },
  {
   "cell_type": "code",
   "execution_count": 0,
   "metadata": {
    "colab": {},
    "colab_type": "code",
    "id": "NEkhuAONdh3U"
   },
   "outputs": [],
   "source": [
    "from torch.utils.data import TensorDataset, DataLoader\n",
    "\n",
    "\n",
    "def batch_data(words, sequence_length, batch_size):\n",
    "    \"\"\"\n",
    "    Batch the neural network data using DataLoader\n",
    "    :param words: The word ids of the TV scripts\n",
    "    :param sequence_length: The sequence length of each batch\n",
    "    :param batch_size: The size of each batch; the number of sequences in a batch\n",
    "    :return: DataLoader with batched data\n",
    "    \"\"\"\n",
    "    # TODO: Implement function\n",
    "    features, targets = [], []\n",
    "\n",
    "    for idx in range(0, (len(words)) - sequence_length):\n",
    "        batch = words[idx : idx + sequence_length]\n",
    "        features.append(batch)\n",
    "        targets.append(words[idx + sequence_length])\n",
    "\n",
    "    # convert to np.arrays\n",
    "    features_array = np.asarray(features)\n",
    "    targets_array = np.asarray(targets)\n",
    "\n",
    "    # convert to tensors\n",
    "    features_tensors = torch.from_numpy(features_array)\n",
    "    #print(features_tensors)\n",
    "    targets_tensors = torch.from_numpy(targets_array)\n",
    "    #print(targets_tensors)\n",
    "    data = TensorDataset(features_tensors, targets_tensors)\n",
    "    #print(data[:10])\n",
    "    #print(features_tensors.shape)\n",
    "    #print(targets_tensors.shape)\n",
    "\n",
    "    dataloader = DataLoader(data, shuffle=True, batch_size=batch_size)\n",
    "\n",
    "    # return a dataloader\n",
    "    return dataloader\n",
    "\n",
    "# there is no test for this function, but you are encouraged to create\n",
    "# print statements and tests of your own\n"
   ]
  },
  {
   "cell_type": "code",
   "execution_count": 0,
   "metadata": {
    "colab": {
     "base_uri": "https://localhost:8080/",
     "height": 904
    },
    "colab_type": "code",
    "id": "XelbsRj-I98U",
    "outputId": "b00c30ff-62b0-4fae-d852-649174324858"
   },
   "outputs": [
    {
     "name": "stdout",
     "output_type": "stream",
     "text": [
      "[24, 22, 47, 1, 1, 1, 17, 47, 22, 82, 20, 6, 1252, 545, 8782, 7189, 20, 241, 1, 149, 1, 1, 1, 84, 4, 200, 238, 149, 208, 58, 55, 135, 64, 47, 3, 24, 22, 18, 677, 208, 58, 1, 1, 1, 24, 220, 126, 2, 121, 50]\n",
      "tensor([[  24,   22,   47,    1,    1],\n",
      "        [  22,   47,    1,    1,    1],\n",
      "        [  47,    1,    1,    1,   17],\n",
      "        [   1,    1,    1,   17,   47],\n",
      "        [   1,    1,   17,   47,   22],\n",
      "        [   1,   17,   47,   22,   82],\n",
      "        [  17,   47,   22,   82,   20],\n",
      "        [  47,   22,   82,   20,    6],\n",
      "        [  22,   82,   20,    6, 1252],\n",
      "        [  82,   20,    6, 1252,  545],\n",
      "        [  20,    6, 1252,  545, 8782],\n",
      "        [   6, 1252,  545, 8782, 7189],\n",
      "        [1252,  545, 8782, 7189,   20],\n",
      "        [ 545, 8782, 7189,   20,  241],\n",
      "        [8782, 7189,   20,  241,    1],\n",
      "        [7189,   20,  241,    1,  149],\n",
      "        [  20,  241,    1,  149,    1],\n",
      "        [ 241,    1,  149,    1,    1],\n",
      "        [   1,  149,    1,    1,    1],\n",
      "        [ 149,    1,    1,    1,   84],\n",
      "        [   1,    1,    1,   84,    4],\n",
      "        [   1,    1,   84,    4,  200],\n",
      "        [   1,   84,    4,  200,  238],\n",
      "        [  84,    4,  200,  238,  149],\n",
      "        [   4,  200,  238,  149,  208],\n",
      "        [ 200,  238,  149,  208,   58],\n",
      "        [ 238,  149,  208,   58,   55],\n",
      "        [ 149,  208,   58,   55,  135],\n",
      "        [ 208,   58,   55,  135,   64],\n",
      "        [  58,   55,  135,   64,   47],\n",
      "        [  55,  135,   64,   47,    3],\n",
      "        [ 135,   64,   47,    3,   24],\n",
      "        [  64,   47,    3,   24,   22],\n",
      "        [  47,    3,   24,   22,   18],\n",
      "        [   3,   24,   22,   18,  677],\n",
      "        [  24,   22,   18,  677,  208],\n",
      "        [  22,   18,  677,  208,   58],\n",
      "        [  18,  677,  208,   58,    1],\n",
      "        [ 677,  208,   58,    1,    1],\n",
      "        [ 208,   58,    1,    1,    1],\n",
      "        [  58,    1,    1,    1,   24],\n",
      "        [   1,    1,    1,   24,  220],\n",
      "        [   1,    1,   24,  220,  126],\n",
      "        [   1,   24,  220,  126,    2],\n",
      "        [  24,  220,  126,    2,  121]])\n",
      "tensor([   1,   17,   47,   22,   82,   20,    6, 1252,  545, 8782, 7189,   20,\n",
      "         241,    1,  149,    1,    1,    1,   84,    4,  200,  238,  149,  208,\n",
      "          58,   55,  135,   64,   47,    3,   24,   22,   18,  677,  208,   58,\n",
      "           1,    1,    1,   24,  220,  126,    2,  121,   50])\n"
     ]
    },
    {
     "data": {
      "text/plain": [
       "<torch.utils.data.dataloader.DataLoader at 0x7f9f831ac390>"
      ]
     },
     "execution_count": 16,
     "metadata": {
      "tags": []
     },
     "output_type": "execute_result"
    }
   ],
   "source": [
    "# test batch_data function if it is creating features and targets\n",
    "print(int_text[:50])\n",
    "batch_data(int_text[:50],5,10)\n"
   ]
  },
  {
   "cell_type": "markdown",
   "metadata": {
    "colab_type": "text",
    "id": "TcFv6T7Edh3W"
   },
   "source": [
    "### Test your dataloader \n",
    "\n",
    "You'll have to modify this code to test a batching function, but it should look fairly similar.\n",
    "\n",
    "Below, we're generating some test text data and defining a dataloader using the function you defined, above. Then, we are getting some sample batch of inputs `sample_x` and targets `sample_y` from our dataloader.\n",
    "\n",
    "Your code should return something like the following (likely in a different order, if you shuffled your data):\n",
    "\n",
    "```\n",
    "torch.Size([10, 5])\n",
    "tensor([[ 28,  29,  30,  31,  32],\n",
    "        [ 21,  22,  23,  24,  25],\n",
    "        [ 17,  18,  19,  20,  21],\n",
    "        [ 34,  35,  36,  37,  38],\n",
    "        [ 11,  12,  13,  14,  15],\n",
    "        [ 23,  24,  25,  26,  27],\n",
    "        [  6,   7,   8,   9,  10],\n",
    "        [ 38,  39,  40,  41,  42],\n",
    "        [ 25,  26,  27,  28,  29],\n",
    "        [  7,   8,   9,  10,  11]])\n",
    "\n",
    "torch.Size([10])\n",
    "tensor([ 33,  26,  22,  39,  16,  28,  11,  43,  30,  12])\n",
    "```\n",
    "\n",
    "### Sizes\n",
    "Your sample_x should be of size `(batch_size, sequence_length)` or (10, 5) in this case and sample_y should just have one dimension: batch_size (10). \n",
    "\n",
    "### Values\n",
    "\n",
    "You should also notice that the targets, sample_y, are the *next* value in the ordered test_text data. So, for an input sequence `[ 28,  29,  30,  31,  32]` that ends with the value `32`, the corresponding output should be `33`."
   ]
  },
  {
   "cell_type": "code",
   "execution_count": 17,
   "metadata": {
    "colab": {
     "base_uri": "https://localhost:8080/",
     "height": 255
    },
    "colab_type": "code",
    "id": "NG2sYAmkdh3X",
    "outputId": "567e532d-c0c0-4d50-8d04-a9d0136b4e16"
   },
   "outputs": [
    {
     "name": "stdout",
     "output_type": "stream",
     "text": [
      "torch.Size([10, 5])\n",
      "tensor([[35, 36, 37, 38, 39],\n",
      "        [16, 17, 18, 19, 20],\n",
      "        [13, 14, 15, 16, 17],\n",
      "        [ 5,  6,  7,  8,  9],\n",
      "        [25, 26, 27, 28, 29],\n",
      "        [ 9, 10, 11, 12, 13],\n",
      "        [ 6,  7,  8,  9, 10],\n",
      "        [30, 31, 32, 33, 34],\n",
      "        [18, 19, 20, 21, 22],\n",
      "        [37, 38, 39, 40, 41]])\n",
      "\n",
      "torch.Size([10])\n",
      "tensor([40, 21, 18, 10, 30, 14, 11, 35, 23, 42])\n"
     ]
    }
   ],
   "source": [
    "# test dataloader\n",
    "\n",
    "test_text = range(50)\n",
    "t_loader = batch_data(test_text, sequence_length=5, batch_size=10)\n",
    "\n",
    "data_iter = iter(t_loader)\n",
    "sample_x, sample_y = data_iter.next()\n",
    "\n",
    "print(sample_x.shape)\n",
    "print(sample_x)\n",
    "print()\n",
    "print(sample_y.shape)\n",
    "print(sample_y)"
   ]
  },
  {
   "cell_type": "markdown",
   "metadata": {
    "colab_type": "text",
    "id": "TWCwSoYzdh3Z"
   },
   "source": [
    "---\n",
    "## Build the Neural Network\n",
    "Implement an RNN using PyTorch's [Module class](http://pytorch.org/docs/master/nn.html#torch.nn.Module). You may choose to use a GRU or an LSTM. To complete the RNN, you'll have to implement the following functions for the class:\n",
    " - `__init__` - The initialize function. \n",
    " - `init_hidden` - The initialization function for an LSTM/GRU hidden state\n",
    " - `forward` - Forward propagation function.\n",
    " \n",
    "The initialize function should create the layers of the neural network and save them to the class. The forward propagation function will use these layers to run forward propagation and generate an output and a hidden state.\n",
    "\n",
    "**The output of this model should be the *last* batch of word scores** after a complete sequence has been processed. That is, for each input sequence of words, we only want to output the word scores for a single, most likely, next word.\n",
    "\n",
    "### Hints\n",
    "\n",
    "1. Make sure to stack the outputs of the lstm to pass to your fully-connected layer, you can do this with `lstm_output = lstm_output.contiguous().view(-1, self.hidden_dim)`\n",
    "2. You can get the last batch of word scores by shaping the output of the final, fully-connected layer like so:\n",
    "\n",
    "```\n",
    "# reshape into (batch_size, seq_length, output_size)\n",
    "output = output.view(batch_size, -1, self.output_size)\n",
    "# get last batch\n",
    "out = output[:, -1]\n",
    "```"
   ]
  },
  {
   "cell_type": "code",
   "execution_count": 18,
   "metadata": {
    "colab": {
     "base_uri": "https://localhost:8080/",
     "height": 34
    },
    "colab_type": "code",
    "id": "ovedpFaxdh3a",
    "outputId": "46b37ffd-7e3f-4c34-b489-1a170cd56230"
   },
   "outputs": [
    {
     "name": "stdout",
     "output_type": "stream",
     "text": [
      "Tests Passed\n"
     ]
    }
   ],
   "source": [
    "import torch.nn as nn\n",
    "\n",
    "class RNN(nn.Module):\n",
    "    \n",
    "    def __init__(self, vocab_size, output_size, embedding_dim, hidden_dim, n_layers, dropout=0.5):\n",
    "        \"\"\"\n",
    "        Initialize the PyTorch RNN Module\n",
    "        :param vocab_size: The number of input dimensions of the neural network (the size of the vocabulary)\n",
    "        :param output_size: The number of output dimensions of the neural network\n",
    "        :param embedding_dim: The size of embeddings, should you choose to use them        \n",
    "        :param hidden_dim: The size of the hidden layer outputs\n",
    "        :param dropout: dropout to add in between LSTM/GRU layers\n",
    "        \"\"\"\n",
    "        super(RNN, self).__init__()\n",
    "        # TODO: Implement function\n",
    "        \n",
    "        # set class variables\n",
    "        self.vocab_size = vocab_size\n",
    "        self.output_size = output_size\n",
    "        self.embedding_dim = embedding_dim\n",
    "        self.hidden_dim = hidden_dim\n",
    "        self.n_layers = n_layers\n",
    "        self.dropout = nn.Dropout(dropout)\n",
    "\n",
    "        # define model layers\n",
    "        self.embedding = nn.Embedding(vocab_size, embedding_dim)\n",
    "        self.lstm = nn.LSTM(embedding_dim, hidden_dim, n_layers, \n",
    "                            dropout=dropout, batch_first=True)\n",
    "        self.dropout      \n",
    "        self.fc = nn.Linear(hidden_dim, output_size)\n",
    "        self.sig = nn.Sigmoid()\n",
    "\n",
    "    \n",
    "    \n",
    "    def forward(self, nn_input, hidden):\n",
    "        \"\"\"\n",
    "        Forward propagation of the neural network\n",
    "        :param nn_input: The input to the neural network\n",
    "        :param hidden: The hidden state        \n",
    "        :return: Two Tensors, the output of the neural network and the latest hidden state\n",
    "        \"\"\"\n",
    "        # TODO: Implement function   \n",
    "       \n",
    "        batch_size = nn_input.size(0)\n",
    "\n",
    "        # embeddings and lstm_out\n",
    "        embeds = self.embedding(nn_input.long())\n",
    "        lstm_out, hidden = self.lstm(embeds, hidden)\n",
    "\n",
    "        # stack up lstm outputs\n",
    "        lstm_out = lstm_out.contiguous().view(-1, self.hidden_dim)\n",
    "\n",
    "        # dropout and fully-connected layer\n",
    "        out = self.dropout(lstm_out)\n",
    "        out = self.fc(out)\n",
    "\n",
    "        # sigmoid function\n",
    "        #sig_out = self.sig(out)\n",
    "        #print(sig_out.shape)\n",
    "        sig_out = out.view(batch_size, -1, self.output_size)\n",
    "        #print(sig_out.shape)\n",
    "        sig_out = sig_out[:, -1] # get last batch of labels\n",
    "        #print(sig_out.shape)\n",
    "\n",
    "        # return last sigmoid output (batch of output word scores) and hidden state\n",
    "        return sig_out, hidden\n",
    "    \n",
    "\n",
    "    def init_hidden(self, batch_size):\n",
    "        '''\n",
    "        Initialize the hidden state of an LSTM/GRU\n",
    "        :param batch_size: The batch_size of the hidden state\n",
    "        :return: hidden state of dims (n_layers, batch_size, hidden_dim)\n",
    "        '''\n",
    "        # Implement function\n",
    "        weight = next(self.parameters()).data\n",
    "        # initialize hidden state with zero weights, and move to GPU if available\n",
    "        if (train_on_gpu):\n",
    "            hidden = (weight.new(self.n_layers, batch_size, self.hidden_dim).zero_().cuda(),\n",
    "                  weight.new(self.n_layers, batch_size, self.hidden_dim).zero_().cuda())\n",
    "        else:\n",
    "            hidden = (weight.new(self.n_layers, batch_size, self.hidden_dim).zero_(),\n",
    "                      weight.new(self.n_layers, batch_size, self.hidden_dim).zero_())\n",
    "\n",
    "        return hidden\n",
    "\n",
    "\"\"\"\n",
    "DON'T MODIFY ANYTHING IN THIS CELL THAT IS BELOW THIS LINE\n",
    "\"\"\"\n",
    "test_rnn(RNN, train_on_gpu)"
   ]
  },
  {
   "cell_type": "markdown",
   "metadata": {
    "colab_type": "text",
    "id": "sG8kM1xfdh3d"
   },
   "source": [
    "### Define forward and backpropagation\n",
    "\n",
    "Use the RNN class you implemented to apply forward and back propagation. This function will be called, iteratively, in the training loop as follows:\n",
    "```\n",
    "loss = forward_back_prop(decoder, decoder_optimizer, criterion, inp, target)\n",
    "```\n",
    "\n",
    "And it should return the average loss over a batch and the hidden state returned by a call to `RNN(inp, hidden)`. Recall that you can get this loss by computing it, as usual, and calling `loss.item()`.\n",
    "\n",
    "**If a GPU is available, you should move your data to that GPU device, here.**"
   ]
  },
  {
   "cell_type": "code",
   "execution_count": 0,
   "metadata": {
    "colab": {},
    "colab_type": "code",
    "id": "WivWWwNwwi46"
   },
   "outputs": [],
   "source": [
    "import torch\n",
    "\n",
    "# Check for a GPU\n",
    "train_on_gpu = torch.cuda.is_available()\n",
    "if not train_on_gpu:\n",
    "    print('No GPU found. Please use a GPU to train your neural network.')"
   ]
  },
  {
   "cell_type": "code",
   "execution_count": 20,
   "metadata": {
    "colab": {
     "base_uri": "https://localhost:8080/",
     "height": 34
    },
    "colab_type": "code",
    "id": "eTc1QVDadh3d",
    "outputId": "e0f52583-39ac-4d68-e046-9c88a112c007"
   },
   "outputs": [
    {
     "name": "stdout",
     "output_type": "stream",
     "text": [
      "Tests Passed\n"
     ]
    }
   ],
   "source": [
    "def forward_back_prop(rnn, optimizer, criterion, inp, target, hidden):\n",
    "    \"\"\"\n",
    "    Forward and backward propagation on the neural network\n",
    "    :param decoder: The PyTorch Module that holds the neural network\n",
    "    :param decoder_optimizer: The PyTorch optimizer for the neural network\n",
    "    :param criterion: The PyTorch loss function\n",
    "    :param inp: A batch of input to the neural network\n",
    "    :param target: The target output for the batch of input\n",
    "    :return: The loss and the latest hidden state Tensor\n",
    "    \"\"\"\n",
    "    \n",
    "    # TODO: Implement Function\n",
    "    \n",
    "    # move data to GPU, if available\n",
    "    if train_on_gpu:\n",
    "        inp, target = inp.cuda(), target.cuda()\n",
    "\n",
    "    # perform backpropagation and optimization\n",
    "\n",
    "    # Creating new variables for the hidden state, otherwise\n",
    "    # we'd backprop through the entire training history\n",
    "    hidden = tuple([each.data for each in hidden])\n",
    "\n",
    "    # zero accumulated gradients\n",
    "    rnn.zero_grad()\n",
    "            \n",
    "    # get the output from the model\n",
    "    output, hidden = rnn(inp, hidden)\n",
    "            \n",
    "    # calculate the loss and perform backprop\n",
    "    loss = criterion(output, target)\n",
    "    loss.backward()\n",
    "    optimizer.step()\n",
    "\n",
    "    # return the loss over a batch and the hidden state produced by our model\n",
    "    return loss.item(), hidden\n",
    "\n",
    "# Note that these tests aren't completely extensive.\n",
    "# they are here to act as general checks on the expected outputs of your functions\n",
    "\"\"\"\n",
    "DON'T MODIFY ANYTHING IN THIS CELL THAT IS BELOW THIS LINE\n",
    "\"\"\"\n",
    "test_forward_back_prop(RNN, forward_back_prop, train_on_gpu)"
   ]
  },
  {
   "cell_type": "markdown",
   "metadata": {
    "colab_type": "text",
    "id": "TQHLhsyVdh3g"
   },
   "source": [
    "## Neural Network Training\n",
    "\n",
    "With the structure of the network complete and data ready to be fed in the neural network, it's time to train it.\n",
    "\n",
    "### Train Loop\n",
    "\n",
    "The training loop is implemented for you in the `train_decoder` function. This function will train the network over all the batches for the number of epochs given. The model progress will be shown every number of batches. This number is set with the `show_every_n_batches` parameter. You'll set this parameter along with other parameters in the next section."
   ]
  },
  {
   "cell_type": "code",
   "execution_count": 0,
   "metadata": {
    "colab": {},
    "colab_type": "code",
    "id": "2vBHVjoLdh3h"
   },
   "outputs": [],
   "source": [
    "\"\"\"\n",
    "DON'T MODIFY ANYTHING IN THIS CELL\n",
    "\"\"\"\n",
    "\n",
    "def train_rnn(rnn, batch_size, optimizer, criterion, n_epochs, show_every_n_batches=100):\n",
    "    batch_losses = []\n",
    "    \n",
    "    rnn.train()\n",
    "\n",
    "    print(\"Training for %d epoch(s)...\" % n_epochs)\n",
    "    for epoch_i in range(1, n_epochs + 1):\n",
    "        \n",
    "        # initialize hidden state\n",
    "        hidden = rnn.init_hidden(batch_size)\n",
    "        \n",
    "        for batch_i, (inputs, labels) in enumerate(train_loader, 1):\n",
    "            \n",
    "            # make sure you iterate over completely full batches, only\n",
    "            n_batches = len(train_loader.dataset)//batch_size\n",
    "            if(batch_i > n_batches):\n",
    "                break\n",
    "            \n",
    "            # forward, back prop\n",
    "            loss, hidden = forward_back_prop(rnn, optimizer, criterion, inputs, labels, hidden)          \n",
    "            # record loss\n",
    "            batch_losses.append(loss)\n",
    "\n",
    "            # printing loss stats\n",
    "            if batch_i % show_every_n_batches == 0:\n",
    "                print('Epoch: {:>4}/{:<4}  Loss: {}\\n'.format(\n",
    "                    epoch_i, n_epochs, np.average(batch_losses)))\n",
    "                batch_losses = []\n",
    "\n",
    "    # returns a trained rnn\n",
    "    return rnn"
   ]
  },
  {
   "cell_type": "markdown",
   "metadata": {
    "colab_type": "text",
    "id": "KPDBD5SXdh3k"
   },
   "source": [
    "### Hyperparameters\n",
    "\n",
    "Set and train the neural network with the following parameters:\n",
    "- Set `sequence_length` to the length of a sequence.\n",
    "- Set `batch_size` to the batch size.\n",
    "- Set `num_epochs` to the number of epochs to train for.\n",
    "- Set `learning_rate` to the learning rate for an Adam optimizer.\n",
    "- Set `vocab_size` to the number of uniqe tokens in our vocabulary.\n",
    "- Set `output_size` to the desired size of the output.\n",
    "- Set `embedding_dim` to the embedding dimension; smaller than the vocab_size.\n",
    "- Set `hidden_dim` to the hidden dimension of your RNN.\n",
    "- Set `n_layers` to the number of layers/cells in your RNN.\n",
    "- Set `show_every_n_batches` to the number of batches at which the neural network should print progress.\n",
    "\n",
    "If the network isn't getting the desired results, tweak these parameters and/or the layers in the `RNN` class."
   ]
  },
  {
   "cell_type": "code",
   "execution_count": 0,
   "metadata": {
    "colab": {},
    "colab_type": "code",
    "id": "bY_XJIXDdh3k"
   },
   "outputs": [],
   "source": [
    "# Data params\n",
    "# Sequence Length\n",
    "sequence_length = 16  # of words in a sequence\n",
    "# Batch Size\n",
    "batch_size = 256\n",
    "\n",
    "# data loader - do not change\n",
    "train_loader = batch_data(int_text, sequence_length, batch_size)"
   ]
  },
  {
   "cell_type": "code",
   "execution_count": 0,
   "metadata": {
    "colab": {},
    "colab_type": "code",
    "id": "vLkHmWRTdh3n"
   },
   "outputs": [],
   "source": [
    "# Training parameters\n",
    "# Number of Epochs\n",
    "num_epochs = 25\n",
    "# Learning Rate\n",
    "learning_rate = 0.0005\n",
    "\n",
    "# Model parameters\n",
    "# Vocab size\n",
    "vocab_size = len(vocab_to_int)\n",
    "# Output size\n",
    "output_size = len(vocab_to_int)\n",
    "# Embedding Dimension\n",
    "embedding_dim = 300\n",
    "# Hidden Dimension\n",
    "hidden_dim = 300\n",
    "# Number of RNN Layers\n",
    "n_layers = 2\n",
    "\n",
    "# Show stats for every n number of batches\n",
    "show_every_n_batches = 2500"
   ]
  },
  {
   "cell_type": "markdown",
   "metadata": {
    "colab_type": "text",
    "id": "zXVvdTCHdh3r"
   },
   "source": [
    "### Train\n",
    "In the next cell, you'll train the neural network on the pre-processed data.  If you have a hard time getting a good loss, you may consider changing your hyperparameters. In general, you may get better results with larger hidden and n_layer dimensions, but larger models take a longer time to train. \n",
    "> **You should aim for a loss less than 3.5.** \n",
    "\n",
    "You should also experiment with different sequence lengths, which determine the size of the long range dependencies that a model can learn."
   ]
  },
  {
   "cell_type": "code",
   "execution_count": 28,
   "metadata": {
    "colab": {
     "base_uri": "https://localhost:8080/",
     "height": 955
    },
    "colab_type": "code",
    "id": "IDq5nBxsdh3r",
    "outputId": "eba2d86f-fe53-41f4-ff0f-85383ce8188b"
   },
   "outputs": [
    {
     "name": "stdout",
     "output_type": "stream",
     "text": [
      "Training for 25 epoch(s)...\n",
      "Epoch:    1/25    Loss: 4.858621700572968\n",
      "\n",
      "Epoch:    2/25    Loss: 4.296976097278836\n",
      "\n",
      "Epoch:    3/25    Loss: 4.11246954327199\n",
      "\n",
      "Epoch:    4/25    Loss: 4.00378860329651\n",
      "\n",
      "Epoch:    5/25    Loss: 3.9257778028533052\n",
      "\n",
      "Epoch:    6/25    Loss: 3.8704261375349507\n",
      "\n",
      "Epoch:    7/25    Loss: 3.8172011758648843\n",
      "\n",
      "Epoch:    8/25    Loss: 3.776942954408315\n",
      "\n",
      "Epoch:    9/25    Loss: 3.7428594898137377\n",
      "\n",
      "Epoch:   10/25    Loss: 3.7094486161433458\n",
      "\n",
      "Epoch:   11/25    Loss: 3.6849057031143135\n",
      "\n",
      "Epoch:   12/25    Loss: 3.6601536416980074\n",
      "\n",
      "Epoch:   13/25    Loss: 3.6381459164975296\n",
      "\n",
      "Epoch:   14/25    Loss: 3.6138284294668215\n",
      "\n",
      "Epoch:   15/25    Loss: 3.595267955662873\n",
      "\n",
      "Epoch:   16/25    Loss: 3.575735781277636\n",
      "\n",
      "Epoch:   17/25    Loss: 3.5569626373483723\n",
      "\n",
      "Epoch:   18/25    Loss: 3.542856987390398\n",
      "\n",
      "Epoch:   19/25    Loss: 3.5227848344090065\n",
      "\n",
      "Epoch:   20/25    Loss: 3.5104341433050985\n",
      "\n",
      "Epoch:   21/25    Loss: 3.49152558734031\n",
      "\n",
      "Epoch:   22/25    Loss: 3.4815995750005704\n",
      "\n",
      "Epoch:   23/25    Loss: 3.4655629669483985\n",
      "\n",
      "Epoch:   24/25    Loss: 3.4488845906903633\n",
      "\n",
      "Epoch:   25/25    Loss: 3.443408541167508\n",
      "\n",
      "Model Trained and Saved\n"
     ]
    },
    {
     "name": "stderr",
     "output_type": "stream",
     "text": [
      "/usr/local/lib/python3.6/dist-packages/torch/serialization.py:402: UserWarning: Couldn't retrieve source code for container of type RNN. It won't be checked for correctness upon loading.\n",
      "  \"type \" + obj.__name__ + \". It won't be checked \"\n"
     ]
    }
   ],
   "source": [
    "\"\"\"\n",
    "DON'T MODIFY ANYTHING IN THIS CELL\n",
    "\"\"\"\n",
    "\n",
    "# create model and move to gpu if available\n",
    "rnn = RNN(vocab_size, output_size, embedding_dim, hidden_dim, n_layers, dropout=0.5)\n",
    "if train_on_gpu:\n",
    "    rnn.cuda()\n",
    "\n",
    "# defining loss and optimization functions for training\n",
    "optimizer = torch.optim.Adam(rnn.parameters(), lr=learning_rate)\n",
    "criterion = nn.CrossEntropyLoss()\n",
    "\n",
    "# training the model\n",
    "trained_rnn = train_rnn(rnn, batch_size, optimizer, criterion, num_epochs, show_every_n_batches)\n",
    "\n",
    "# saving the trained model\n",
    "save_model('./save/trained_rnn', trained_rnn)\n",
    "print('Model Trained and Saved')"
   ]
  },
  {
   "cell_type": "markdown",
   "metadata": {
    "colab_type": "text",
    "id": "G-P9_2Rqdh3u"
   },
   "source": [
    "### Question: How did you decide on your model hyperparameters? \n",
    "For example, did you try different sequence_lengths and find that one size made the model converge faster? What about your hidden_dim and n_layers; how did you decide on those?"
   ]
  },
  {
   "cell_type": "markdown",
   "metadata": {
    "colab_type": "text",
    "id": "F-hmdEtLdh3u"
   },
   "source": [
    "**Answer:** \n",
    "I had to go through 7 training loops before I managed to get the loss below 3.5. \n",
    "\n",
    "I started with a sequence length of 100 words, and this took a very long time to train.  I kept minimising the sequence_length until I reached a length where the model trained a lot faster.  I also experimented with the batch size, dropout, number of epochs as well as the learning rate.  \n",
    "\n",
    "I kept the batch_size between 128 - 256 words because in our training videos Jay recommended a higher batch size if you want your network to train faster.\n",
    "\n",
    "Jay also recommended a hidden_dim vector of size of between 50 - 200, I chose to enlarge this slightly and took 300 as my hidden dimension.\n",
    "\n",
    "I decided to keep my n_layers to 2 because in the videos and articles shared with students, research showed that a 2 layer net was a good benchmark of keeping the layers between 1-3.  Also, according to the research, 3 layers seldomly outperformed 2 layers.\n",
    "\n",
    "Below follows the details of the seven training loops:\n",
    "\n",
    "**Training Loop 1: **\n",
    "- `seq_length` = 100\n",
    "- `batch_size` = 128\n",
    "- `epochs` = 20\n",
    "- `learning_rate` = 0.001\n",
    "- `dropout` = 0.5\n",
    "- `embed_dim` = 256\n",
    "- `hidden_dim` = 256\n",
    "- `n_layers` = 2\n",
    "- `Loss` = 3.722\n",
    "\n",
    "**Training Loop 2: **\n",
    "- `seq_length` = 30\n",
    "- `batch_size` = 128\n",
    "- `epochs` = 20\n",
    "- `learning_rate` = 0.0001\n",
    "- `dropout` = 0.3\n",
    "- `embed_dim` = 256\n",
    "- `hidden_dim` = 256\n",
    "- `n_layers` = 2\n",
    "- `Loss` = 3.84\n",
    "\n",
    "**Training Loop 3: **\n",
    "- `seq_length` = 20\n",
    "- `batch_size` = 256\n",
    "- `epochs` = 20\n",
    "- `learning_rate` = 0.0007\n",
    "- `dropout` = 0.5\n",
    "- `embed_dim` = 256\n",
    "- `hidden_dim` = 256\n",
    "- `n_layers` = 2\n",
    "- `Loss` = 3.58\n",
    "\n",
    "**Training Loop 4: **\n",
    "- `seq_length` = 10\n",
    "- `batch_size` = 256\n",
    "- `epochs` = 20\n",
    "- `learning_rate` = 0.0005\n",
    "- `dropout` = 0.5\n",
    "- `embed_dim` = 300\n",
    "- `hidden_dim` = 300\n",
    "- `n_layers` = 2\n",
    "- `Loss` = 3.53\n",
    "\n",
    "**Training Loop 5: **\n",
    "- `seq_length` = 12\n",
    "- `batch_size` = 256\n",
    "- `epochs` = 20\n",
    "- `learning_rate` = 0.0007\n",
    "- `dropout` = 0.5\n",
    "- `embed_dim` = 300\n",
    "- `hidden_dim` = 300\n",
    "- `n_layers` = 2\n",
    "- `Loss` = 3.52\n",
    "\n",
    "**Training Loop 6: **\n",
    "- `seq_length` = 16\n",
    "- `batch_size` = 256\n",
    "- `epochs` = 20\n",
    "- `learning_rate` = 0.0005\n",
    "- `dropout` = 0.5\n",
    "- `embed_dim` = 300\n",
    "- `hidden_dim` = 300\n",
    "- `n_layers` = 2\n",
    "- `Loss` = 3.504\n",
    "\n",
    "**Training Loop 7: **\n",
    "- `seq_length` = 16\n",
    "- `batch_size` = 256\n",
    "- `epochs` = 25\n",
    "- `learning_rate` = 0.0005\n",
    "- `dropout` = 0.5\n",
    "- `embed_dim` = 300\n",
    "- `hidden_dim` = 300\n",
    "- `n_layers` = 2\n",
    "- `Loss` = 3.44\n",
    "\n"
   ]
  },
  {
   "cell_type": "markdown",
   "metadata": {
    "colab_type": "text",
    "id": "QlU1VCUtdh3v"
   },
   "source": [
    "---\n",
    "# Checkpoint\n",
    "\n",
    "After running the above training cell, your model will be saved by name, `trained_rnn`, and if you save your notebook progress, **you can pause here and come back to this code at another time**. You can resume your progress by running the next cell, which will load in our word:id dictionaries _and_ load in your saved model by name!"
   ]
  },
  {
   "cell_type": "code",
   "execution_count": 0,
   "metadata": {
    "colab": {},
    "colab_type": "code",
    "id": "ANq0-mxGdh3v"
   },
   "outputs": [],
   "source": [
    "\"\"\"\n",
    "DON'T MODIFY ANYTHING IN THIS CELL\n",
    "\"\"\"\n",
    "import torch\n",
    "#import helper\n",
    "#import problem_unittests as tests\n",
    "\n",
    "_, vocab_to_int, int_to_vocab, token_dict = load_preprocess()\n",
    "trained_rnn = load_model('./save/trained_rnn')"
   ]
  },
  {
   "cell_type": "markdown",
   "metadata": {
    "colab_type": "text",
    "id": "Bznm1uUFdh3y"
   },
   "source": [
    "## Generate TV Script\n",
    "With the network trained and saved, you'll use it to generate a new, \"fake\" Seinfeld TV script in this section.\n",
    "\n",
    "### Generate Text\n",
    "To generate the text, the network needs to start with a single word and repeat its predictions until it reaches a set length. You'll be using the `generate` function to do this. It takes a word id to start with, `prime_id`, and generates a set length of text, `predict_len`. Also note that it uses topk sampling to introduce some randomness in choosing the most likely next word, given an output set of word scores!"
   ]
  },
  {
   "cell_type": "code",
   "execution_count": 0,
   "metadata": {
    "colab": {},
    "colab_type": "code",
    "id": "L6jrXfGidh3y"
   },
   "outputs": [],
   "source": [
    "\"\"\"\n",
    "DON'T MODIFY ANYTHING IN THIS CELL THAT IS BELOW THIS LINE\n",
    "\"\"\"\n",
    "import torch.nn.functional as F\n",
    "\n",
    "def generate(rnn, prime_id, int_to_vocab, token_dict, pad_value, predict_len=100):\n",
    "    \"\"\"\n",
    "    Generate text using the neural network\n",
    "    :param decoder: The PyTorch Module that holds the trained neural network\n",
    "    :param prime_id: The word id to start the first prediction\n",
    "    :param int_to_vocab: Dict of word id keys to word values\n",
    "    :param token_dict: Dict of puncuation tokens keys to puncuation values\n",
    "    :param pad_value: The value used to pad a sequence\n",
    "    :param predict_len: The length of text to generate\n",
    "    :return: The generated text\n",
    "    \"\"\"\n",
    "    rnn.eval()\n",
    "    \n",
    "    # create a sequence (batch_size=1) with the prime_id\n",
    "    current_seq = np.full((1, sequence_length), pad_value)\n",
    "   \n",
    "    current_seq[-1][-1] = prime_id\n",
    "    predicted = [int_to_vocab[prime_id]]\n",
    "    \n",
    "\n",
    "    for _ in range(predict_len):\n",
    "        if train_on_gpu:\n",
    "            current_seq = torch.LongTensor(current_seq).cuda()\n",
    "        else:\n",
    "            current_seq = torch.LongTensor(current_seq)\n",
    "        \n",
    "        # initialize the hidden state\n",
    "        hidden = rnn.init_hidden(current_seq.size(0))\n",
    "        \n",
    "        # get the output of the rnn\n",
    "        output, _ = rnn(current_seq, hidden)\n",
    "        output = output.cpu()\n",
    "        # get the next word probabilities\n",
    "        p = F.softmax(output, dim=1).data\n",
    "        if(train_on_gpu):\n",
    "            p = p.cpu() # move to cpu\n",
    "         \n",
    "        # use top_k sampling to get the index of the next word\n",
    "        top_k = 5\n",
    "        p, top_i = p.topk(top_k)\n",
    "        \n",
    "        \n",
    "        top_i = top_i.numpy().squeeze()\n",
    "\n",
    "        # select the likely next word index with some element of randomness\n",
    "        p = p.numpy().squeeze()\n",
    "        word_i = np.random.choice(top_i, p=p/p.sum())\n",
    "        \n",
    "        # retrieve that word from the dictionary\n",
    "        word = int_to_vocab[word_i]\n",
    "        predicted.append(word)     \n",
    "        \n",
    "        # the generated word becomes the next \"current sequence\" and the cycle can continue\n",
    "        current_seq = current_seq.cpu()\n",
    "        current_seq = np.roll(current_seq, -1, 1)\n",
    "        current_seq[-1][-1] = word_i\n",
    "    \n",
    "    gen_sentences = ' '.join(predicted)\n",
    "    \n",
    "    # Replace punctuation tokens\n",
    "    for key, token in token_dict.items():\n",
    "        ending = ' ' if key in ['\\n', '(', '\"'] else ''\n",
    "        gen_sentences = gen_sentences.replace(' ' + token.lower(), key)\n",
    "    gen_sentences = gen_sentences.replace('\\n ', '\\n')\n",
    "    gen_sentences = gen_sentences.replace('( ', '(')\n",
    "    \n",
    "    \n",
    "    # return all the sentences\n",
    "    return gen_sentences"
   ]
  },
  {
   "cell_type": "markdown",
   "metadata": {
    "colab_type": "text",
    "id": "_YRC54GZdh31"
   },
   "source": [
    "### Generate a New Script\n",
    "It's time to generate the text. Set `gen_length` to the length of TV script you want to generate and set `prime_word` to one of the following to start the prediction:\n",
    "- \"jerry\"\n",
    "- \"elaine\"\n",
    "- \"george\"\n",
    "- \"kramer\"\n",
    "\n",
    "You can set the prime word to _any word_ in our dictionary, but it's best to start with a name for generating a TV script. (You can also start with any other names you find in the original text file!)"
   ]
  },
  {
   "cell_type": "code",
   "execution_count": 173,
   "metadata": {
    "colab": {
     "base_uri": "https://localhost:8080/",
     "height": 1000
    },
    "colab_type": "code",
    "id": "HvEew_gQdh31",
    "outputId": "de123c04-23bb-45c1-a05c-3cf4faa23223"
   },
   "outputs": [
    {
     "name": "stdout",
     "output_type": "stream",
     "text": [
      "elaine: and 'thewallet', blah, blah, blah, blah.\n",
      "\n",
      "jerry: i don't know.\n",
      "\n",
      "kramer: oh, i can't believe i got to go.\n",
      "\n",
      "elaine: well, i just had to get a call and i just had the whole time.\n",
      "\n",
      "george: i can't believe it!\n",
      "\n",
      "jerry: you can't believe you, i don't think so, i just wanted to talk about the whole guy.\n",
      "\n",
      "helen:(to george) i think i could see the doctor.\n",
      "\n",
      "jerry: what is this about?\n",
      "\n",
      "kramer: well, i just came out of a garage.(he walks away, he starts to get out of his mouth)\n",
      "\n",
      "jerry: what do you think? i think i should be able to get out of this car.\n",
      "\n",
      "jerry:(to jerry) hey.\n",
      "\n",
      "elaine: hey, hey.\n",
      "\n",
      "elaine: hey, hey.\n",
      "\n",
      "george: oh yeah.\n",
      "\n",
      "george: oh, well...(to elaine) you know you were supposed to be in a while?\n",
      "\n",
      "george: well, you know, you know, you know that i have a good time. you have to be able to make a little more than you, i can't take it.\n",
      "\n",
      "jerry:(to jerry) hey, you want to get the suit outta here?\n",
      "\n",
      "george:(to george) well you got a little more than a couple of weeks.\n",
      "\n",
      "george: oh, yeah. i don't have to go......(to george.) oh, hi.\n",
      "\n",
      "kramer: hi.\n",
      "\n",
      "jerry: hello?\n",
      "\n",
      "jerry: hi, hi, jerry.\n",
      "\n",
      "george: hello, hello.\n",
      "\n",
      "jerry: hello?\n",
      "\n",
      "elaine: hey, hey.\n",
      "\n",
      "elaine: hi jerry!\n",
      "\n",
      "jerry: hello, hello, kramer!\n",
      "\n",
      "elaine: hi.\n",
      "\n",
      "jerry:(to kramer) hey, i think i can do this!\n",
      "\n",
      "jerry: what?\n",
      "\n",
      "george: i don't know.\n",
      "\n",
      "jerry: what are you\n"
     ]
    }
   ],
   "source": [
    "# run the cell multiple times to get different results!\n",
    "gen_length = 400 # modify the length to your preference\n",
    "prime_word = 'elaine' # name for starting the script\n",
    "\n",
    "\"\"\"\n",
    "DON'T MODIFY ANYTHING IN THIS CELL THAT IS BELOW THIS LINE\n",
    "\"\"\"\n",
    "pad_word = SPECIAL_WORDS['PADDING']\n",
    "generated_script = generate(trained_rnn, vocab_to_int[prime_word + ':'], int_to_vocab, token_dict, vocab_to_int[pad_word], gen_length)\n",
    "print(generated_script)"
   ]
  },
  {
   "cell_type": "markdown",
   "metadata": {
    "colab_type": "text",
    "id": "GFm1ThEMdh34"
   },
   "source": [
    "#### Save your favorite scripts\n",
    "\n",
    "Once you have a script that you like (or find interesting), save it to a text file!"
   ]
  },
  {
   "cell_type": "code",
   "execution_count": 0,
   "metadata": {
    "colab": {},
    "colab_type": "code",
    "id": "fgWgcvwgdh34"
   },
   "outputs": [],
   "source": [
    "# save script to a text file\n",
    "f =  open(\"generated_script_1.txt\",\"w\")\n",
    "f.write(generated_script)\n",
    "f.close()"
   ]
  },
  {
   "cell_type": "markdown",
   "metadata": {
    "colab_type": "text",
    "id": "sCy6OHlvdh37"
   },
   "source": [
    "# The TV Script is Not Perfect\n",
    "It's ok if the TV script doesn't make perfect sense. It should look like alternating lines of dialogue, here is one such example of a few generated lines.\n",
    "\n",
    "### Example generated script\n",
    "\n",
    ">jerry: what about me?\n",
    ">\n",
    ">jerry: i don't have to wait.\n",
    ">\n",
    ">kramer:(to the sales table)\n",
    ">\n",
    ">elaine:(to jerry) hey, look at this, i'm a good doctor.\n",
    ">\n",
    ">newman:(to elaine) you think i have no idea of this...\n",
    ">\n",
    ">elaine: oh, you better take the phone, and he was a little nervous.\n",
    ">\n",
    ">kramer:(to the phone) hey, hey, jerry, i don't want to be a little bit.(to kramer and jerry) you can't.\n",
    ">\n",
    ">jerry: oh, yeah. i don't even know, i know.\n",
    ">\n",
    ">jerry:(to the phone) oh, i know.\n",
    ">\n",
    ">kramer:(laughing) you know...(to jerry) you don't know.\n",
    "\n",
    "You can see that there are multiple characters that say (somewhat) complete sentences, but it doesn't have to be perfect! It takes quite a while to get good results, and often, you'll have to use a smaller vocabulary (and discard uncommon words), or get more data.  The Seinfeld dataset is about 3.4 MB, which is big enough for our purposes; for script generation you'll want more than 1 MB of text, generally. \n",
    "\n",
    "# Submitting This Project\n",
    "When submitting this project, make sure to run all the cells before saving the notebook. Save the notebook file as \"dlnd_tv_script_generation.ipynb\" and save another copy as an HTML file by clicking \"File\" -> \"Download as..\"->\"html\". Include the \"helper.py\" and \"problem_unittests.py\" files in your submission. Once you download these files, compress them into one zip file for submission."
   ]
  },
  {
   "cell_type": "code",
   "execution_count": 0,
   "metadata": {
    "colab": {},
    "colab_type": "code",
    "id": "jxqr8sYwdh38"
   },
   "outputs": [],
   "source": []
  }
 ],
 "metadata": {
  "colab": {
   "collapsed_sections": [],
   "name": "15_May_dlnd_tv_script_generation.ipynb",
   "provenance": [],
   "toc_visible": true
  },
  "kernelspec": {
   "display_name": "Python 3",
   "language": "python",
   "name": "python3"
  },
  "language_info": {
   "codemirror_mode": {
    "name": "ipython",
    "version": 3
   },
   "file_extension": ".py",
   "mimetype": "text/x-python",
   "name": "python",
   "nbconvert_exporter": "python",
   "pygments_lexer": "ipython3",
   "version": "3.8.2"
  }
 },
 "nbformat": 4,
 "nbformat_minor": 1
}
